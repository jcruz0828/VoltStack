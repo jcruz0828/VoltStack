{
 "cells": [
  {
   "cell_type": "code",
   "execution_count": 89,
   "id": "4f332a79-f60c-4b82-bd5e-5358eda9272a",
   "metadata": {},
   "outputs": [
    {
     "name": "stderr",
     "output_type": "stream",
     "text": [
      "<>:19: SyntaxWarning: invalid escape sequence '\\s'\n",
      "<>:19: SyntaxWarning: invalid escape sequence '\\s'\n",
      "/var/folders/7f/k112vzxs0qb0hm1r03sgnk5m0000gn/T/ipykernel_27484/2871322293.py:19: SyntaxWarning: invalid escape sequence '\\s'\n",
      "  \"\"\"\n"
     ]
    }
   ],
   "source": [
    "def is_common_multiple(P, periods):\n",
    "    \"\"\"\n",
    "    Check if P is a common multiple of all periods.\n",
    "    \"\"\"\n",
    "    for period in periods:\n",
    "        if P % period != 0:\n",
    "            return False\n",
    "    return True\n",
    "\n",
    "\n",
    "def is_multiple(P, f):\n",
    "    \"\"\"\n",
    "    Check if P is a multiple of f.\n",
    "    \"\"\"\n",
    "    return P % f == 0\n",
    "\n",
    "\n",
    "def is_frame_sufficiently_long(tasks, f, P):\n",
    "    \"\"\"\n",
    "    Check if the frame is sufficiently long based on the equation:\n",
    "    \\sum (C_i) <= f, for 1 <= k <= P / f\n",
    "    \"\"\"\n",
    "    max_k = P // f\n",
    "    for k in range(1, max_k + 1):\n",
    "        total_execution = sum(task[\"Execution Time\"] for task in tasks.values() if k in task[\"Frames\"])\n",
    "        if total_execution > f:\n",
    "            return False\n",
    "    return True\n",
    "\n",
    "def calculate_phi_i(task, f, P):\n",
    "    \"\"\"\n",
    "    Calculate Φ_i based on the given formula:\n",
    "    Φ_i = min((f_ij - 1) * f - (j - 1) * T_i)\n",
    "    \"\"\"\n",
    "    T_i = task[\"Period\"]\n",
    "    min_value = float(\"inf\")\n",
    "    for j,frame in enumerate(task['Frames']):\n",
    "        calc = 0 if ((frame - 1) * f) - (j * T_i) < 0 else ((frame - 1) * f) - (j * T_i)\n",
    "        min_value = min(calc,min_value)\n",
    "    return min_value\n",
    "    \n",
    "def are_deadlines_respected(tasks, f, P):\n",
    "    \"\"\"\n",
    "    Check if deadlines are respected based on the equation:\n",
    "    (j - 1) * T_i + Φ_i + D_i >= f_ij * f\n",
    "    \"\"\"\n",
    "    for task_id, task in tasks.items():\n",
    "        T_i = task[\"Period\"]\n",
    "        D_i = task[\"Deadline\"]\n",
    "        phi_i = calculate_phi_i(task, f, P)\n",
    "        for j,frame in enumerate(task[\"Frames\"]):\n",
    "            if (j * T_i + phi_i + D_i < frame * f):\n",
    "                return False\n",
    "    return True\n",
    "    \n",
    "        \n"
   ]
  },
  {
   "cell_type": "code",
   "execution_count": 91,
   "id": "18414614-9cf5-4538-90d1-d73971f025f4",
   "metadata": {},
   "outputs": [
    {
     "name": "stdout",
     "output_type": "stream",
     "text": [
      "Is P a common multiple of all periods? True\n",
      "Is P a multiple of f? True\n",
      "Is the frame sufficiently long? True\n",
      "Φ_1: 0\n",
      "Φ_2: 0\n",
      "Φ_3: 0\n",
      "Φ_4: 2\n",
      "Are deadlines respected? True\n"
     ]
    }
   ],
   "source": [
    "tasks = {\n",
    "    1: {\n",
    "        \"Period\": 15,\n",
    "        \"Deadline\": 9,\n",
    "        \"Execution Time\": 2,\n",
    "        \"Frames\": [2, 5, 9, 12]\n",
    "    },\n",
    "    2: {\n",
    "        \"Period\": 12,\n",
    "        \"Deadline\": 4,\n",
    "        \"Execution Time\": 3,\n",
    "        \"Frames\": [1, 4, 7, 10, 13]\n",
    "    },\n",
    "    3: {\n",
    "        \"Period\": 10,\n",
    "        \"Deadline\": 6,\n",
    "        \"Execution Time\": 1,\n",
    "        \"Frames\": [1, 3, 6, 8, 11, 13]\n",
    "    },\n",
    "    4: {\n",
    "        \"Period\": 6,\n",
    "        \"Deadline\": 6,\n",
    "        \"Execution Time\": 2,\n",
    "        \"Frames\": [2, 3, 5, 6, 8, 9, 11, 12, 14, 15]\n",
    "    }\n",
    "}\n",
    "P = 60\n",
    "f = 4\n",
    "\n",
    "\n",
    "\n",
    "\n",
    "print(\"Is P a common multiple of all periods?\", is_common_multiple(P, [task[\"Period\"] for task in tasks.values()]))\n",
    "print(\"Is P a multiple of f?\", is_multiple(P, f))\n",
    "print(\"Is the frame sufficiently long?\", is_frame_sufficiently_long(tasks, f, P))\n",
    "for task_id, task in tasks.items():\n",
    "    print(f\"Φ_{task_id}: {calculate_phi_i(task, f, P)}\")\n",
    "\n",
    "print(\"Are deadlines respected?\", are_deadlines_respected(tasks, f, P))\n",
    "\n",
    "\n"
   ]
  },
  {
   "cell_type": "code",
   "execution_count": 115,
   "id": "5f9a695d-06b4-496c-9af8-baa515fc3d6d",
   "metadata": {},
   "outputs": [],
   "source": [
    "!git reset"
   ]
  },
  {
   "cell_type": "code",
   "execution_count": 112,
   "id": "8743c510-5250-44db-a4de-da826ce1b179",
   "metadata": {},
   "outputs": [
    {
     "name": "stdout",
     "output_type": "stream",
     "text": [
      "error: src refspec main does not match any\n",
      "\u001b[31merror: failed to push some refs to 'https://github.com/jcruz0828/RTS-schedule-authenticator-.git'\n",
      "\u001b[m"
     ]
    }
   ],
   "source": [
    "!git push -u origin main"
   ]
  },
  {
   "cell_type": "code",
   "execution_count": null,
   "id": "4fdda4d7-e222-44cc-8269-8fbdc875ef5c",
   "metadata": {},
   "outputs": [],
   "source": []
  }
 ],
 "metadata": {
  "kernelspec": {
   "display_name": "Python 3 (ipykernel)",
   "language": "python",
   "name": "python3"
  },
  "language_info": {
   "codemirror_mode": {
    "name": "ipython",
    "version": 3
   },
   "file_extension": ".py",
   "mimetype": "text/x-python",
   "name": "python",
   "nbconvert_exporter": "python",
   "pygments_lexer": "ipython3",
   "version": "3.12.4"
  }
 },
 "nbformat": 4,
 "nbformat_minor": 5
}
